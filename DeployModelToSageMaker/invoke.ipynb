{
 "cells": [
  {
   "cell_type": "code",
   "execution_count": 17,
   "metadata": {
    "scrolled": true
   },
   "outputs": [
    {
     "name": "stdout",
     "output_type": "stream",
     "text": [
      "[\n",
      "    {\n",
      "        \"prediction\": \"watch\",\n",
      "        \"score\": \"91.32393002510071%\"\n",
      "    },\n",
      "    {\n",
      "        \"prediction\": \"camera\",\n",
      "        \"score\": \"5.524840950965881%\"\n",
      "    },\n",
      "    {\n",
      "        \"prediction\": \"airplanes\",\n",
      "        \"score\": \"1.427038386464119%\"\n",
      "    }\n",
      "]\n"
     ]
    }
   ],
   "source": [
    "import json\n",
    "import  sagemaker\n",
    "import boto3\n",
    "\n",
    "client = boto3.client('sagemaker-runtime')\n",
    "\n",
    "payload = {\"url\":\"https://images.pexels.com/photos/164641/pexels-photo-164641.jpeg?cs=srgb&dl=silver-link-bracelet-black-u-boat-chronograph-watch-164641.jpg&fm=jpg\"}\n",
    "#payload = {\"url\": \"hi\"}\n",
    "#payload = {\"url\":\"https://example.com/predict.png\"}\n",
    "\n",
    "response = client.invoke_endpoint(\n",
    "    EndpointName=\"pytorch-inference-2021-06-25-19-31-12-385\",\n",
    "    ContentType=\"application/json\",\n",
    "    Accept=\"application/json\",\n",
    "    Body=json.dumps(payload)\n",
    ")\n",
    "\n",
    "\n",
    "#print(response['Body'].read())\n",
    "#print(\"Response=\",response)\n",
    "response_body = json.loads(response['Body'].read())\n",
    "print(json.dumps(response_body, indent=4))"
   ]
  },
  {
   "cell_type": "code",
   "execution_count": null,
   "metadata": {},
   "outputs": [],
   "source": []
  },
  {
   "cell_type": "code",
   "execution_count": null,
   "metadata": {},
   "outputs": [],
   "source": []
  },
  {
   "cell_type": "code",
   "execution_count": 9,
   "metadata": {},
   "outputs": [
    {
     "data": {
      "text/plain": [
       "[{'prediction': 'elephant', 'score': '30.356886982917786%'},\n",
       " {'prediction': 'rhino', 'score': '26.44214630126953%'},\n",
       " {'prediction': 'Leopards', 'score': '17.927277088165283%'}]"
      ]
     },
     "execution_count": 9,
     "metadata": {},
     "output_type": "execute_result"
    }
   ],
   "source": [
    "[\n",
    "    {\n",
    "        \"prediction\": \"elephant\",\n",
    "        \"score\": \"30.356886982917786%\"\n",
    "    },\n",
    "    {\n",
    "        \"prediction\": \"rhino\",\n",
    "        \"score\": \"26.44214630126953%\"\n",
    "    },\n",
    "    {\n",
    "        \"prediction\": \"Leopards\",\n",
    "        \"score\": \"17.927277088165283%\"\n",
    "    }\n",
    "]"
   ]
  },
  {
   "cell_type": "code",
   "execution_count": null,
   "metadata": {},
   "outputs": [],
   "source": []
  }
 ],
 "metadata": {
  "kernelspec": {
   "display_name": "py38_sage",
   "language": "python",
   "name": "py38_sage"
  },
  "language_info": {
   "codemirror_mode": {
    "name": "ipython",
    "version": 3
   },
   "file_extension": ".py",
   "mimetype": "text/x-python",
   "name": "python",
   "nbconvert_exporter": "python",
   "pygments_lexer": "ipython3",
   "version": "3.8.5"
  }
 },
 "nbformat": 4,
 "nbformat_minor": 4
}
