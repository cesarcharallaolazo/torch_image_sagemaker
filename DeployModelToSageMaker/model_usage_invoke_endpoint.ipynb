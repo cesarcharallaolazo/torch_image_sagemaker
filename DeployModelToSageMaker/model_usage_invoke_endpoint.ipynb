{
 "cells": [
  {
   "cell_type": "code",
   "execution_count": 1,
   "id": "355e2fdc",
   "metadata": {},
   "outputs": [],
   "source": [
    "import json\n",
    "import sagemaker\n",
    "import boto3"
   ]
  },
  {
   "cell_type": "code",
   "execution_count": 9,
   "id": "5f8bf76e",
   "metadata": {},
   "outputs": [],
   "source": [
    "client = boto3.client(\"sagemaker-runtime\")\n",
    "\n",
    "payload = {\"url\": \"https://static8.depositphotos.com/1361307/921/i/600/depositphotos_9213048-stock-photo-airplane.jpg\"}\n",
    "\n"
   ]
  },
  {
   "cell_type": "code",
   "execution_count": 10,
   "id": "08fea956",
   "metadata": {},
   "outputs": [],
   "source": [
    "response = client.invoke_endpoint(\n",
    "    EndpointName = \"pytorch-inference-2021-10-22-23-52-19-916\",\n",
    "    ContentType = \"application/json\",\n",
    "    Accept=\"application/json\",\n",
    "    Body = json.dumps(payload)\n",
    ")"
   ]
  },
  {
   "cell_type": "code",
   "execution_count": 11,
   "id": "c073a2f9",
   "metadata": {},
   "outputs": [],
   "source": [
    "response_body = json.loads(response[\"Body\"].read())"
   ]
  },
  {
   "cell_type": "code",
   "execution_count": 12,
   "id": "3df41980",
   "metadata": {},
   "outputs": [
    {
     "name": "stdout",
     "output_type": "stream",
     "text": [
      "[\n",
      "    {\n",
      "        \"prediction\": \"airplanes\",\n",
      "        \"score\": \"99.15323853492737%\"\n",
      "    },\n",
      "    {\n",
      "        \"prediction\": \"umbrella\",\n",
      "        \"score\": \"0.2823237096890807%\"\n",
      "    },\n",
      "    {\n",
      "        \"prediction\": \"camera\",\n",
      "        \"score\": \"0.18690458964556456%\"\n",
      "    }\n",
      "]\n"
     ]
    }
   ],
   "source": [
    "print(json.dumps(response_body, indent=4))"
   ]
  },
  {
   "cell_type": "code",
   "execution_count": null,
   "id": "c84aadb8",
   "metadata": {},
   "outputs": [],
   "source": []
  }
 ],
 "metadata": {
  "kernelspec": {
   "display_name": "conda_python3",
   "language": "python",
   "name": "conda_python3"
  },
  "language_info": {
   "codemirror_mode": {
    "name": "ipython",
    "version": 3
   },
   "file_extension": ".py",
   "mimetype": "text/x-python",
   "name": "python",
   "nbconvert_exporter": "python",
   "pygments_lexer": "ipython3",
   "version": "3.6.13"
  }
 },
 "nbformat": 4,
 "nbformat_minor": 5
}
