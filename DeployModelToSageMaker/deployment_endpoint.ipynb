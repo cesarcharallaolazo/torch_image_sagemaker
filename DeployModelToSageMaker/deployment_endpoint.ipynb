{
 "cells": [
  {
   "cell_type": "markdown",
   "id": "ad003d7b",
   "metadata": {},
   "source": [
    "### For Hosting Services - Sagemaker Endpoint"
   ]
  },
  {
   "cell_type": "code",
   "execution_count": 8,
   "id": "523b85d4",
   "metadata": {},
   "outputs": [],
   "source": [
    "from sagemaker.pytorch import PyTorchModel\n",
    "from sagemaker import get_execution_role"
   ]
  },
  {
   "cell_type": "code",
   "execution_count": 7,
   "id": "3fc3619b",
   "metadata": {},
   "outputs": [],
   "source": [
    "role = get_execution_role()"
   ]
  },
  {
   "cell_type": "code",
   "execution_count": 3,
   "id": "9c8b9993",
   "metadata": {},
   "outputs": [],
   "source": [
    "pytorch_model = PyTorchModel(model_data = 's3://sagemaker-us-east-1-428881646170/sagemaker/saturday_ai/cv_v2/model/model.tar.gz',\n",
    "                             role = role,\n",
    "                             entry_point=\"inference_cv.py\",\n",
    "                             py_version=\"py3\",\n",
    "                             framework_version=\"1.7.1\"\n",
    ")"
   ]
  },
  {
   "cell_type": "code",
   "execution_count": 4,
   "id": "55526f2d",
   "metadata": {},
   "outputs": [
    {
     "name": "stdout",
     "output_type": "stream",
     "text": [
      "-------------------------------!"
     ]
    }
   ],
   "source": [
    "predictor = pytorch_model.deploy(instance_type=\"ml.c5.large\", initial_instance_count=1)\n"
   ]
  },
  {
   "cell_type": "code",
   "execution_count": 5,
   "id": "6aa337c2",
   "metadata": {},
   "outputs": [
    {
     "data": {
      "text/plain": [
       "'pytorch-inference-2021-10-22-23-52-19-916'"
      ]
     },
     "execution_count": 5,
     "metadata": {},
     "output_type": "execute_result"
    }
   ],
   "source": [
    "predictor.endpoint_name"
   ]
  },
  {
   "cell_type": "code",
   "execution_count": null,
   "id": "cfebd960",
   "metadata": {},
   "outputs": [],
   "source": []
  },
  {
   "cell_type": "code",
   "execution_count": null,
   "id": "de8d0e22",
   "metadata": {},
   "outputs": [],
   "source": []
  },
  {
   "cell_type": "markdown",
   "id": "d745f7ce",
   "metadata": {},
   "source": [
    "### For Batch Transform"
   ]
  },
  {
   "cell_type": "code",
   "execution_count": 9,
   "id": "501fb036",
   "metadata": {},
   "outputs": [],
   "source": [
    "pytorch_batch_model = PyTorchModel(model_data = 's3://sagemaker-us-east-1-428881646170/sagemaker/saturday_ai/cv_v2/model/model.tar.gz',\n",
    "                             role = role,\n",
    "                             entry_point=\"batch_transform_th.py\",\n",
    "                             py_version=\"py3\",\n",
    "                             framework_version=\"1.7.1\"\n",
    ")"
   ]
  },
  {
   "cell_type": "code",
   "execution_count": 10,
   "id": "87c65fde",
   "metadata": {
    "scrolled": true
   },
   "outputs": [
    {
     "name": "stdout",
     "output_type": "stream",
     "text": [
      "------!"
     ]
    }
   ],
   "source": [
    "batch_predictor = pytorch_batch_model.deploy(instance_type=\"ml.c5.large\", initial_instance_count=1)\n"
   ]
  },
  {
   "cell_type": "code",
   "execution_count": 11,
   "id": "f573e0f8",
   "metadata": {},
   "outputs": [
    {
     "data": {
      "text/plain": [
       "'pytorch-inference-2021-10-23-04-43-20-554'"
      ]
     },
     "execution_count": 11,
     "metadata": {},
     "output_type": "execute_result"
    }
   ],
   "source": [
    "batch_predictor.endpoint_name"
   ]
  },
  {
   "cell_type": "code",
   "execution_count": null,
   "id": "aec51d09",
   "metadata": {},
   "outputs": [],
   "source": [
    "### then, use this model with 'Sagemaker Batch transform jobs' (left panel)"
   ]
  }
 ],
 "metadata": {
  "kernelspec": {
   "display_name": "conda_python3",
   "language": "python",
   "name": "conda_python3"
  },
  "language_info": {
   "codemirror_mode": {
    "name": "ipython",
    "version": 3
   },
   "file_extension": ".py",
   "mimetype": "text/x-python",
   "name": "python",
   "nbconvert_exporter": "python",
   "pygments_lexer": "ipython3",
   "version": "3.6.13"
  }
 },
 "nbformat": 4,
 "nbformat_minor": 5
}
